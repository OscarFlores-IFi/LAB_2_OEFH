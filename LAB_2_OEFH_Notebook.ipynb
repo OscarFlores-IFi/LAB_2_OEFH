{
 "cells": [
  {
   "cell_type": "markdown",
   "metadata": {},
   "source": [
    "<img src=\"http://oci02.img.iteso.mx/identidad_de_instancia_2018/ITESO/Logos%20ITESO/Logo-ITESO-Principal.jpg\">"
   ]
  },
  {
   "cell_type": "markdown",
   "metadata": {},
   "source": [
    "  ---"
   ]
  },
  {
   "cell_type": "markdown",
   "metadata": {},
   "source": [
    "<center> <font color= #0000> <font size = 5> Ingeniería Financiera | ITESO </font> <br> <br>\n",
    "   "
   ]
  },
  {
   "cell_type": "markdown",
   "metadata": {},
   "source": [
    "<center> <font color= #000000> <font size = 4> Microestructura y Sistemas de Trading </font> <br> <br>"
   ]
  },
  {
   "cell_type": "markdown",
   "metadata": {},
   "source": [
    "<center> <font color=#000000><font size=5> Laboratorio 2 <br> <br> Behavioral Finance en Trading </font> <br> <br>"
   ]
  },
  {
   "cell_type": "markdown",
   "metadata": {},
   "source": [
    "<center> <font color=#000000><font size=4> I.F. Oscar E. Flores H. | if715029@iteso.mx </font> <br> <br>"
   ]
  },
  {
   "cell_type": "markdown",
   "metadata": {},
   "source": [
    "  ---"
   ]
  },
  {
   "cell_type": "markdown",
   "metadata": {},
   "source": [
    "# Abstract"
   ]
  },
  {
   "cell_type": "markdown",
   "metadata": {},
   "source": [
    "En este trabajo se pretende hacer un análisis de comportamientos en entornos financieros. Se tomarán datos de transaccioones ejecutadas por algún algorítmo o trader (estos mismos proporcionados por Oanda y MetaTrader4), a partir de estos datos generamos un código que analice; los históricos que ha conseguido la cuenta, las medidas de atribuciión al desempeño (que tan bueno es el algorítmo/trader), y finanzas conductuales. "
   ]
  },
  {
   "cell_type": "markdown",
   "metadata": {},
   "source": [
    "# Análisis de histórico de cuenta"
   ]
  },
  {
   "cell_type": "markdown",
   "metadata": {},
   "source": []
  },
  {
   "cell_type": "code",
   "execution_count": 23,
   "metadata": {},
   "outputs": [
    {
     "ename": "AttributeError",
     "evalue": "module 'funciones' has no attribute 'f_sesgos_cognitivos'",
     "output_type": "error",
     "traceback": [
      "\u001b[0;31m---------------------------------------------------------------------------\u001b[0m",
      "\u001b[0;31mAttributeError\u001b[0m                            Traceback (most recent call last)",
      "\u001b[0;32m<ipython-input-23-be7716e6a584>\u001b[0m in \u001b[0;36m<module>\u001b[0;34m\u001b[0m\n\u001b[1;32m      8\u001b[0m \u001b[0mestadisticas\u001b[0m \u001b[0;34m=\u001b[0m \u001b[0mfn\u001b[0m\u001b[0;34m.\u001b[0m\u001b[0mf_estadisticas_ba\u001b[0m\u001b[0;34m(\u001b[0m\u001b[0mdatos\u001b[0m\u001b[0;34m)\u001b[0m\u001b[0;34m\u001b[0m\u001b[0;34m\u001b[0m\u001b[0m\n\u001b[1;32m      9\u001b[0m \u001b[0mdesempenio\u001b[0m \u001b[0;34m=\u001b[0m \u001b[0mfn\u001b[0m\u001b[0;34m.\u001b[0m\u001b[0mf_estadisticas_mad\u001b[0m\u001b[0;34m(\u001b[0m\u001b[0mdatos\u001b[0m\u001b[0;34m)\u001b[0m\u001b[0;34m\u001b[0m\u001b[0;34m\u001b[0m\u001b[0m\n\u001b[0;32m---> 10\u001b[0;31m \u001b[0msesgos\u001b[0m \u001b[0;34m=\u001b[0m \u001b[0mfn\u001b[0m\u001b[0;34m.\u001b[0m\u001b[0mf_sesgos_cognitivos\u001b[0m\u001b[0;34m(\u001b[0m\u001b[0mdatos\u001b[0m\u001b[0;34m)\u001b[0m\u001b[0;34m\u001b[0m\u001b[0;34m\u001b[0m\u001b[0m\n\u001b[0m",
      "\u001b[0;31mAttributeError\u001b[0m: module 'funciones' has no attribute 'f_sesgos_cognitivos'"
     ]
    }
   ],
   "source": [
    "import funciones as fn\n",
    "\n",
    "archivo = \"archivo_tradeview_1.csv\"\n",
    "datos = fn.f_leer_archivo(archivo)\n",
    "datos = fn.f_columnas_tiempos(datos)\n",
    "datos = fn.f_columnas_pips(datos)\n",
    "datos = fn.f_capital_acm(datos)\n",
    "estadisticas = fn.f_estadisticas_ba(datos)\n",
    "desempenio = fn.f_estadisticas_mad(datos)\n",
    "sesgos = fn.f_sesgos_cognitivos(datos)"
   ]
  },
  {
   "cell_type": "markdown",
   "metadata": {},
   "source": [
    "Desgargamos datos de traders/algoritmos y hacemos algunos calculos con ellos, entre los cálculos que hemos hecho se encuentra calcular la magnitud de pips según sea el instrumento que se está utilizando, la cantidad de ganancia/pérdida que se ha obtenido después de cerrar la operación, entre otras. A continuación se muestra la tabla de datos generada."
   ]
  },
  {
   "cell_type": "code",
   "execution_count": 18,
   "metadata": {
    "scrolled": true
   },
   "outputs": [
    {
     "data": {
      "text/html": [
       "<div>\n",
       "<style scoped>\n",
       "    .dataframe tbody tr th:only-of-type {\n",
       "        vertical-align: middle;\n",
       "    }\n",
       "\n",
       "    .dataframe tbody tr th {\n",
       "        vertical-align: top;\n",
       "    }\n",
       "\n",
       "    .dataframe thead th {\n",
       "        text-align: right;\n",
       "    }\n",
       "</style>\n",
       "<table border=\"1\" class=\"dataframe\">\n",
       "  <thead>\n",
       "    <tr style=\"text-align: right;\">\n",
       "      <th></th>\n",
       "      <th>order</th>\n",
       "      <th>opentime</th>\n",
       "      <th>type</th>\n",
       "      <th>size</th>\n",
       "      <th>symbol</th>\n",
       "      <th>openprice</th>\n",
       "      <th>s/l</th>\n",
       "      <th>t/p</th>\n",
       "      <th>closetime</th>\n",
       "      <th>closeprice</th>\n",
       "      <th>commission</th>\n",
       "      <th>taxes</th>\n",
       "      <th>swap</th>\n",
       "      <th>profit</th>\n",
       "      <th>tiempo</th>\n",
       "      <th>pips</th>\n",
       "      <th>pips_acm</th>\n",
       "      <th>profit_acm</th>\n",
       "      <th>capital_acm</th>\n",
       "    </tr>\n",
       "  </thead>\n",
       "  <tbody>\n",
       "    <tr>\n",
       "      <td>0</td>\n",
       "      <td>24316034</td>\n",
       "      <td>2019-08-27 06:57:50</td>\n",
       "      <td>buy</td>\n",
       "      <td>0.04</td>\n",
       "      <td>xauusd</td>\n",
       "      <td>1529.21000</td>\n",
       "      <td>1523.000</td>\n",
       "      <td>1543.0000</td>\n",
       "      <td>2019-08-27 09:16:01</td>\n",
       "      <td>1533.69000</td>\n",
       "      <td>0.0</td>\n",
       "      <td>0</td>\n",
       "      <td>0</td>\n",
       "      <td>17.92</td>\n",
       "      <td>8291.0</td>\n",
       "      <td>44.8</td>\n",
       "      <td>44.8</td>\n",
       "      <td>17.92</td>\n",
       "      <td>5017.92</td>\n",
       "    </tr>\n",
       "    <tr>\n",
       "      <td>1</td>\n",
       "      <td>24334215</td>\n",
       "      <td>2019-08-27 17:06:20</td>\n",
       "      <td>buy</td>\n",
       "      <td>0.01</td>\n",
       "      <td>eurjpy</td>\n",
       "      <td>117.66400</td>\n",
       "      <td>116.950</td>\n",
       "      <td>118.7000</td>\n",
       "      <td>2019-08-29 06:38:16</td>\n",
       "      <td>117.37400</td>\n",
       "      <td>0.0</td>\n",
       "      <td>0</td>\n",
       "      <td>0</td>\n",
       "      <td>-2.73</td>\n",
       "      <td>135116.0</td>\n",
       "      <td>-29.0</td>\n",
       "      <td>15.8</td>\n",
       "      <td>15.19</td>\n",
       "      <td>5015.19</td>\n",
       "    </tr>\n",
       "    <tr>\n",
       "      <td>2</td>\n",
       "      <td>24342155</td>\n",
       "      <td>2019-08-27 19:25:39</td>\n",
       "      <td>buy</td>\n",
       "      <td>0.05</td>\n",
       "      <td>eurjpy</td>\n",
       "      <td>117.34600</td>\n",
       "      <td>116.950</td>\n",
       "      <td>119.7000</td>\n",
       "      <td>2019-08-28 21:01:24</td>\n",
       "      <td>117.45200</td>\n",
       "      <td>0.0</td>\n",
       "      <td>0</td>\n",
       "      <td>0</td>\n",
       "      <td>5.00</td>\n",
       "      <td>92145.0</td>\n",
       "      <td>10.6</td>\n",
       "      <td>26.4</td>\n",
       "      <td>20.19</td>\n",
       "      <td>5020.19</td>\n",
       "    </tr>\n",
       "    <tr>\n",
       "      <td>3</td>\n",
       "      <td>24373260</td>\n",
       "      <td>2019-08-28 17:11:33</td>\n",
       "      <td>buy</td>\n",
       "      <td>0.01</td>\n",
       "      <td>eurusd</td>\n",
       "      <td>1.10791</td>\n",
       "      <td>1.104</td>\n",
       "      <td>1.1175</td>\n",
       "      <td>2019-08-29 06:38:28</td>\n",
       "      <td>1.10818</td>\n",
       "      <td>0.0</td>\n",
       "      <td>0</td>\n",
       "      <td>0</td>\n",
       "      <td>0.27</td>\n",
       "      <td>48415.0</td>\n",
       "      <td>2.7</td>\n",
       "      <td>29.1</td>\n",
       "      <td>20.46</td>\n",
       "      <td>5020.46</td>\n",
       "    </tr>\n",
       "    <tr>\n",
       "      <td>4</td>\n",
       "      <td>24392415</td>\n",
       "      <td>2019-08-29 06:35:27</td>\n",
       "      <td>buy</td>\n",
       "      <td>0.01</td>\n",
       "      <td>gbpusd</td>\n",
       "      <td>1.22024</td>\n",
       "      <td>1.208</td>\n",
       "      <td>1.2370</td>\n",
       "      <td>2019-08-29 06:37:23</td>\n",
       "      <td>1.21990</td>\n",
       "      <td>0.0</td>\n",
       "      <td>0</td>\n",
       "      <td>0</td>\n",
       "      <td>-0.34</td>\n",
       "      <td>116.0</td>\n",
       "      <td>-3.4</td>\n",
       "      <td>25.7</td>\n",
       "      <td>20.12</td>\n",
       "      <td>5020.12</td>\n",
       "    </tr>\n",
       "  </tbody>\n",
       "</table>\n",
       "</div>"
      ],
      "text/plain": [
       "      order            opentime type  size  symbol   openprice       s/l  \\\n",
       "0  24316034 2019-08-27 06:57:50  buy  0.04  xauusd  1529.21000  1523.000   \n",
       "1  24334215 2019-08-27 17:06:20  buy  0.01  eurjpy   117.66400   116.950   \n",
       "2  24342155 2019-08-27 19:25:39  buy  0.05  eurjpy   117.34600   116.950   \n",
       "3  24373260 2019-08-28 17:11:33  buy  0.01  eurusd     1.10791     1.104   \n",
       "4  24392415 2019-08-29 06:35:27  buy  0.01  gbpusd     1.22024     1.208   \n",
       "\n",
       "         t/p           closetime  closeprice  commission  taxes  swap  profit  \\\n",
       "0  1543.0000 2019-08-27 09:16:01  1533.69000         0.0      0     0   17.92   \n",
       "1   118.7000 2019-08-29 06:38:16   117.37400         0.0      0     0   -2.73   \n",
       "2   119.7000 2019-08-28 21:01:24   117.45200         0.0      0     0    5.00   \n",
       "3     1.1175 2019-08-29 06:38:28     1.10818         0.0      0     0    0.27   \n",
       "4     1.2370 2019-08-29 06:37:23     1.21990         0.0      0     0   -0.34   \n",
       "\n",
       "     tiempo  pips  pips_acm  profit_acm  capital_acm  \n",
       "0    8291.0  44.8      44.8       17.92      5017.92  \n",
       "1  135116.0 -29.0      15.8       15.19      5015.19  \n",
       "2   92145.0  10.6      26.4       20.19      5020.19  \n",
       "3   48415.0   2.7      29.1       20.46      5020.46  \n",
       "4     116.0  -3.4      25.7       20.12      5020.12  "
      ]
     },
     "execution_count": 18,
     "metadata": {},
     "output_type": "execute_result"
    }
   ],
   "source": [
    "datos.head()"
   ]
  },
  {
   "cell_type": "markdown",
   "metadata": {},
   "source": [
    "### estadísticas básicas de la tabla generada:"
   ]
  },
  {
   "cell_type": "code",
   "execution_count": 19,
   "metadata": {},
   "outputs": [
    {
     "data": {
      "text/html": [
       "<div>\n",
       "<style scoped>\n",
       "    .dataframe tbody tr th:only-of-type {\n",
       "        vertical-align: middle;\n",
       "    }\n",
       "\n",
       "    .dataframe tbody tr th {\n",
       "        vertical-align: top;\n",
       "    }\n",
       "\n",
       "    .dataframe thead th {\n",
       "        text-align: right;\n",
       "    }\n",
       "</style>\n",
       "<table border=\"1\" class=\"dataframe\">\n",
       "  <thead>\n",
       "    <tr style=\"text-align: right;\">\n",
       "      <th></th>\n",
       "      <th>Ops totales</th>\n",
       "      <th>Ganadoras</th>\n",
       "      <th>Ganadoras_c</th>\n",
       "      <th>Ganadoras_s</th>\n",
       "      <th>Perdedoras</th>\n",
       "      <th>Perdedoras_c</th>\n",
       "      <th>Perdedoras_s</th>\n",
       "      <th>Mediana_profit</th>\n",
       "      <th>Mediana_pips</th>\n",
       "      <th>r_efectividad</th>\n",
       "      <th>r_proporcion</th>\n",
       "      <th>r_efectividad_c</th>\n",
       "      <th>r_efectividad_v</th>\n",
       "    </tr>\n",
       "  </thead>\n",
       "  <tbody>\n",
       "    <tr>\n",
       "      <td>Valor</td>\n",
       "      <td>84</td>\n",
       "      <td>69</td>\n",
       "      <td>24</td>\n",
       "      <td>45</td>\n",
       "      <td>15</td>\n",
       "      <td>15</td>\n",
       "      <td>0</td>\n",
       "      <td>1.205</td>\n",
       "      <td>1252.38</td>\n",
       "      <td>0.821429</td>\n",
       "      <td>4.6</td>\n",
       "      <td>0.615385</td>\n",
       "      <td>1</td>\n",
       "    </tr>\n",
       "    <tr>\n",
       "      <td>Descripcion</td>\n",
       "      <td>Operaciones totales</td>\n",
       "      <td>Operaciones ganadoras</td>\n",
       "      <td>Operaciones ganadoras de compra</td>\n",
       "      <td>Operaciones ganadoras de venta</td>\n",
       "      <td>Operaciones perdedoras</td>\n",
       "      <td>Operaciones perdedoras de compra</td>\n",
       "      <td>Operaciones perdedoras de venta</td>\n",
       "      <td>Mediana de rendimeintos de las operaciones</td>\n",
       "      <td>Mediana de pips de las operaciones</td>\n",
       "      <td>Ganadoras Totales/Operaciones Totales</td>\n",
       "      <td>Ganadoras Totales/ Perdedoras Totales</td>\n",
       "      <td>Ganadoras Compras/ Operaciones Totales</td>\n",
       "      <td>Ganadoras Ventas/ Operaciones Totales</td>\n",
       "    </tr>\n",
       "  </tbody>\n",
       "</table>\n",
       "</div>"
      ],
      "text/plain": [
       "                     Ops totales              Ganadoras  \\\n",
       "Valor                         84                     69   \n",
       "Descripcion  Operaciones totales  Operaciones ganadoras   \n",
       "\n",
       "                                 Ganadoras_c                     Ganadoras_s  \\\n",
       "Valor                                     24                              45   \n",
       "Descripcion  Operaciones ganadoras de compra  Operaciones ganadoras de venta   \n",
       "\n",
       "                         Perdedoras                      Perdedoras_c  \\\n",
       "Valor                            15                                15   \n",
       "Descripcion  Operaciones perdedoras  Operaciones perdedoras de compra   \n",
       "\n",
       "                                Perdedoras_s  \\\n",
       "Valor                                      0   \n",
       "Descripcion  Operaciones perdedoras de venta   \n",
       "\n",
       "                                         Mediana_profit  \\\n",
       "Valor                                             1.205   \n",
       "Descripcion  Mediana de rendimeintos de las operaciones   \n",
       "\n",
       "                                   Mediana_pips  \\\n",
       "Valor                                   1252.38   \n",
       "Descripcion  Mediana de pips de las operaciones   \n",
       "\n",
       "                                     r_efectividad  \\\n",
       "Valor                                     0.821429   \n",
       "Descripcion  Ganadoras Totales/Operaciones Totales   \n",
       "\n",
       "                                      r_proporcion  \\\n",
       "Valor                                          4.6   \n",
       "Descripcion  Ganadoras Totales/ Perdedoras Totales   \n",
       "\n",
       "                                    r_efectividad_c  \\\n",
       "Valor                                      0.615385   \n",
       "Descripcion  Ganadoras Compras/ Operaciones Totales   \n",
       "\n",
       "                                   r_efectividad_v  \n",
       "Valor                                            1  \n",
       "Descripcion  Ganadoras Ventas/ Operaciones Totales  "
      ]
     },
     "execution_count": 19,
     "metadata": {},
     "output_type": "execute_result"
    }
   ],
   "source": [
    "estadisticas['df1']"
   ]
  },
  {
   "cell_type": "markdown",
   "metadata": {},
   "source": [
    "En este caso podemos observar que son pocas operaciones las que han sido ejecutadas (únicamente 84), aunque realmente la precisión de las operaciones es muy buena, ya que tiene 69 ganadoras (esto equivale al 82.14% de efectividad). Además de esto podemos notar que es prácticamente indiferente entre si ejecutar posiciones de compra o ejecutar posiciones de venta. Se puede notar también que no se tiene  ninguna posición de venta con rendimientos negativos, sin embargo, las posiciones de compra con rendimientos negativos equivalen al 17% de las operaciones totales.\n",
    "\n",
    "Podemos observar tambien que la mediana de profit es pequeña, aunque positiva. El solo hecho de que la mediana sea positiva nos dice que el algorítmo ha tenido un buen desempeño. Las posiciones en las que ha tenido rendimientos negativos no fueron tan perjudiciales como fueron las posiciones con rendimientos positivos. "
   ]
  },
  {
   "cell_type": "markdown",
   "metadata": {},
   "source": [
    "### Rankings:"
   ]
  },
  {
   "cell_type": "code",
   "execution_count": 20,
   "metadata": {},
   "outputs": [
    {
     "data": {
      "text/html": [
       "<div>\n",
       "<style scoped>\n",
       "    .dataframe tbody tr th:only-of-type {\n",
       "        vertical-align: middle;\n",
       "    }\n",
       "\n",
       "    .dataframe tbody tr th {\n",
       "        vertical-align: top;\n",
       "    }\n",
       "\n",
       "    .dataframe thead th {\n",
       "        text-align: right;\n",
       "    }\n",
       "</style>\n",
       "<table border=\"1\" class=\"dataframe\">\n",
       "  <thead>\n",
       "    <tr style=\"text-align: right;\">\n",
       "      <th></th>\n",
       "      <th>btcusd</th>\n",
       "      <th>eurgbp</th>\n",
       "      <th>usdmxn</th>\n",
       "      <th>xauusd</th>\n",
       "      <th>gbpusd</th>\n",
       "      <th>usdjpy</th>\n",
       "      <th>eurusd</th>\n",
       "      <th>audusd</th>\n",
       "      <th>eurjpy</th>\n",
       "      <th>usdcad</th>\n",
       "      <th>gbpjpy</th>\n",
       "    </tr>\n",
       "  </thead>\n",
       "  <tbody>\n",
       "    <tr>\n",
       "      <td>rank</td>\n",
       "      <td>1.0</td>\n",
       "      <td>1.0</td>\n",
       "      <td>0.8</td>\n",
       "      <td>0.736842</td>\n",
       "      <td>0.666667</td>\n",
       "      <td>0.6</td>\n",
       "      <td>0.478261</td>\n",
       "      <td>0.333333</td>\n",
       "      <td>0.285714</td>\n",
       "      <td>0.285714</td>\n",
       "      <td>0.25</td>\n",
       "    </tr>\n",
       "  </tbody>\n",
       "</table>\n",
       "</div>"
      ],
      "text/plain": [
       "      btcusd  eurgbp  usdmxn    xauusd    gbpusd  usdjpy    eurusd    audusd  \\\n",
       "rank     1.0     1.0     0.8  0.736842  0.666667     0.6  0.478261  0.333333   \n",
       "\n",
       "        eurjpy    usdcad  gbpjpy  \n",
       "rank  0.285714  0.285714    0.25  "
      ]
     },
     "execution_count": 20,
     "metadata": {},
     "output_type": "execute_result"
    }
   ],
   "source": [
    "estadisticas['df2']"
   ]
  },
  {
   "cell_type": "markdown",
   "metadata": {},
   "source": [
    "En la tabla anterior se pretende comparar la tasa de efectividad de cada uno de los instrumentos utilizados. Se puede notar que existen dos instrumentos que tienen 'muy buena tasa' de efectividad, sin embargo, esta tasa se ve sesgada debido a que las muestras son muy reducidas (información que no está contenida explícitamente en la tabla mostrada). Mismo caso con los que aparentemente tienen 'muy mal desempeño' o los instrumentos de extrema derecha.  "
   ]
  },
  {
   "cell_type": "markdown",
   "metadata": {},
   "source": [
    "# Medidas de atribución al desempeño"
   ]
  },
  {
   "cell_type": "markdown",
   "metadata": {},
   "source": [
    "Para este apratado se generó una tabla con las medidas de atribución al desempeño más conocidas como son; sharpe ratio, sortino ratios (positivos y negativos), y drawdown, entre otros. "
   ]
  },
  {
   "cell_type": "code",
   "execution_count": 21,
   "metadata": {},
   "outputs": [
    {
     "data": {
      "text/html": [
       "<div>\n",
       "<style scoped>\n",
       "    .dataframe tbody tr th:only-of-type {\n",
       "        vertical-align: middle;\n",
       "    }\n",
       "\n",
       "    .dataframe tbody tr th {\n",
       "        vertical-align: top;\n",
       "    }\n",
       "\n",
       "    .dataframe thead th {\n",
       "        text-align: right;\n",
       "    }\n",
       "</style>\n",
       "<table border=\"1\" class=\"dataframe\">\n",
       "  <thead>\n",
       "    <tr style=\"text-align: right;\">\n",
       "      <th></th>\n",
       "      <th>sharpe</th>\n",
       "      <th>sortino_c</th>\n",
       "      <th>sortino_s</th>\n",
       "      <th>drawdown</th>\n",
       "      <th>drawup</th>\n",
       "      <th>drawdown_pips</th>\n",
       "      <th>drawup_pips</th>\n",
       "    </tr>\n",
       "  </thead>\n",
       "  <tbody>\n",
       "    <tr>\n",
       "      <td>Valor</td>\n",
       "      <td>-102.133745</td>\n",
       "      <td>-151.913054</td>\n",
       "      <td>-124.554641</td>\n",
       "      <td>-111.3</td>\n",
       "      <td>254.13</td>\n",
       "      <td>-1174.2</td>\n",
       "      <td>1757.33</td>\n",
       "    </tr>\n",
       "  </tbody>\n",
       "</table>\n",
       "</div>"
      ],
      "text/plain": [
       "           sharpe   sortino_c   sortino_s  drawdown  drawup  drawdown_pips  \\\n",
       "Valor -102.133745 -151.913054 -124.554641    -111.3  254.13        -1174.2   \n",
       "\n",
       "       drawup_pips  \n",
       "Valor      1757.33  "
      ]
     },
     "execution_count": 21,
     "metadata": {},
     "output_type": "execute_result"
    }
   ],
   "source": [
    "desempenio"
   ]
  },
  {
   "cell_type": "code",
   "execution_count": 22,
   "metadata": {},
   "outputs": [
    {
     "data": {
      "text/plain": [
       "0.0512"
      ]
     },
     "execution_count": 22,
     "metadata": {},
     "output_type": "execute_result"
    }
   ],
   "source": [
    "256/5000"
   ]
  },
  {
   "cell_type": "markdown",
   "metadata": {},
   "source": [
    "Se puede notar que el sharpe en este caso es negativo. Esto se debe a que el supuesto para el calculo de sharpe es un supuesto \"incorrecto\" debido a que la medida de comparación debe considerar los rendimientos generados por transacción como si estos fueran generados diariamente para ser multiplicado por 30 (los días del mes) y compararlo con la tasa de referencia proporcionada por el docente (8%). Cabe resaltar que los rendimientos son por transacción y no por día, hace falta generar una columna con la información del rendimiento diario para poder hacerla comparable. En cuento a drawdown, podemos notar que es únicamente de -113 que equivale a un 2.26% de bajas totales. El drawup por su parte equivale al 5.12%.  En el mejor de los casos tuvimos una 'plusvalía' de 5%. De la misma forma se puede interpretar los drawdown en pips y drawup\n"
   ]
  },
  {
   "cell_type": "markdown",
   "metadata": {},
   "source": [
    "# Behavioral Finance"
   ]
  },
  {
   "cell_type": "markdown",
   "metadata": {},
   "source": [
    "En este trabajo se pretende encontrar sesgos cognitivos. \n",
    "Como propuesta se hace una matriz de probabilidades de Markov. En las filas tenemos la situación \"actual\" y en las columnas tenemos la probabilidad de seguir en la misma situación o de cambiar a otra situación."
   ]
  },
  {
   "cell_type": "code",
   "execution_count": null,
   "metadata": {},
   "outputs": [],
   "source": []
  },
  {
   "cell_type": "markdown",
   "metadata": {},
   "source": [
    "Podemos asumir que sí existe un sesgo cognitivo, esto se observa en la probabilidad empírica; perder dinero dado que la última transacción realizada tuvo perdidas tiene una probabilidad del 57.89%, del mismo modo, dada la situación de haber ganado dinero en la última transacción realizada, la probabilidad de ganar dinero en la siguiente transacción será de 64.44%. \n",
    "\n",
    "Se puede entonces notar que sí hay un patrón con un poco de sesgo, cuando se gana dinero es muy probable que sigan en rachas de transacciones con rendimientos positivos. Del mismo modo, una vez que entra en 'racha' de perdidas, se mantendrá en ella aunque con menor frecuencia que cuando se tienen rachas de rendimientos positivos. "
   ]
  },
  {
   "cell_type": "code",
   "execution_count": null,
   "metadata": {},
   "outputs": [],
   "source": []
  }
 ],
 "metadata": {
  "kernelspec": {
   "display_name": "Python 3",
   "language": "python",
   "name": "python3"
  },
  "language_info": {
   "codemirror_mode": {
    "name": "ipython",
    "version": 3
   },
   "file_extension": ".py",
   "mimetype": "text/x-python",
   "name": "python",
   "nbconvert_exporter": "python",
   "pygments_lexer": "ipython3",
   "version": "3.7.4"
  }
 },
 "nbformat": 4,
 "nbformat_minor": 2
}
